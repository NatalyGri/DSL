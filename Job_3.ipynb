{
  "nbformat": 4,
  "nbformat_minor": 0,
  "metadata": {
    "colab": {
      "name": "Job-3.ipynb",
      "provenance": [],
      "collapsed_sections": [],
      "authorship_tag": "ABX9TyMw6lcoehZ2jIqVpodn/vGb",
      "include_colab_link": true
    },
    "kernelspec": {
      "name": "python3",
      "display_name": "Python 3"
    },
    "language_info": {
      "name": "python"
    }
  },
  "cells": [
    {
      "cell_type": "markdown",
      "metadata": {
        "id": "view-in-github",
        "colab_type": "text"
      },
      "source": [
        "<a href=\"https://colab.research.google.com/github/NatalyGri/DSL/blob/main/Job_3.ipynb\" target=\"_parent\"><img src=\"https://colab.research.google.com/assets/colab-badge.svg\" alt=\"Open In Colab\"/></a>"
      ]
    },
    {
      "cell_type": "markdown",
      "source": [
        "Используя представление грамматики, предложенное в Job #2 написать:\n",
        "1.   Программу, генерирующую функцию FIRST\n",
        "2.   Программу, генерирующую функцию FOLLOW\n",
        "\n",
        "Грамматика:\n",
        "```\n",
        "{'toks': set(token), 'vars': dict(var: definition), 'hvar': var}\n",
        "token : (class, value)\n",
        "class : int\n",
        "value : str\n",
        "var : str                 # имя нетерминала\n",
        "definition : list(rule)\n",
        "rule : list(var | token)  # правая часть правила\n",
        "```\n",
        "\n"
      ],
      "metadata": {
        "id": "BMNutO9Bka5d"
      }
    },
    {
      "cell_type": "markdown",
      "source": [
        "**FIRST(A)** - все терминалы, с которых могут начинаться всевозможные выводы из A.\n",
        "Чтобы найти функцию FIRST для нашей грамматики, мы просматриваем каждое правило для нетерминала следующим образом:\n",
        "1.   Если правило начинается с терминала, мы добавляем этот терминал в множество \"first\" и переходим к следующему правилу.\n",
        "2.   Если правило начинается с нетерминала, мы вызываем функцию FIRST для этого нетерминала и анализируем полученный набор. Если полученное множество содержит пустой символ, переходим к следующему символу правила, а полученное множество добавляем к \"first\". Если в наборе нет пустого символа, то переходим к следующему правилу.\n",
        "\n",
        "В конце концов, мы применим функцию FIRST для каждого нетерминала и найдем результирующий набор для каждого нетерминала."
      ],
      "metadata": {
        "id": "V2c-nohhx0b3"
      }
    },
    {
      "cell_type": "code",
      "execution_count": 7,
      "metadata": {
        "id": "Ze5Ii7qhjj9a"
      },
      "outputs": [],
      "source": [
        "def firsts_set(grammar, empt): #функция возвращает множество \"first\" для каждого нетерминала\n",
        "  nterminals_firsts = dict() \n",
        "  nterminals = grammar['vars']\n",
        "\n",
        "  def first(nterm): #функция возвращает множество \"first\" для конкретного нетерминала\n",
        "    terminals_set = set() \n",
        "    for rule in nterminals[nterm]:\n",
        "      for symbol in rule:\n",
        "        if symbol not in nterminals:\n",
        "          terminals_set.add(symbol)\n",
        "          break;\n",
        "        else:\n",
        "          if symbol not in nterminals_firsts.keys():\n",
        "            nterminals_firsts[symbol] = first(symbol)\n",
        "          terminals_set.update(nterminals_firsts[symbol])\n",
        "          if empt not in terminals_set:\n",
        "            break;\n",
        "    return terminals_set\n",
        "\n",
        "  for nterm in nterminals.keys():\n",
        "    if nterm not in nterminals_firsts:\n",
        "      nterminals_firsts[nterm] = set(first(nterm))\n",
        "  return nterminals_firsts"
      ]
    },
    {
      "cell_type": "markdown",
      "source": [
        "**FOLLOW(A)** - все терминальные символы, которые встречаются справа от нетерминала A во всех возможных сентенциальных формах.\n",
        "\n",
        "Рассмотрим все продуцинные правила типа A → αBβ:\n",
        "\n",
        "1.   Находим набор FIRST(β) и добавляем его к множеству \"follow\" для нетерминального B.\n",
        "2.   Если FIRST(β) содержит пустой символ, мы также добавляем множество \"follow\" нетерминала A к множеству \"follow\" нетерминала B (FOLLOW(B) += FOLLOW(A)).\n",
        "3.   Далее, мы переходим к следующему правилу и повторяем наши действия, пока множество \"follow\" нетерминала B увеличивается."
      ],
      "metadata": {
        "id": "X9rWn3aJ4xSk"
      }
    },
    {
      "cell_type": "code",
      "source": [
        "def follows_set(grammar, empt):\n",
        "  follows = dict() \n",
        "  firsts = firsts_set(grammar, empt)\n",
        "  terminals = grammar['toks']\n",
        "  nterminals = grammar['vars']\n",
        "  nonterminal = grammar['hvar']\n",
        "\n",
        "  for nterm in nterminals:\n",
        "    follows[nterm] = set()\n",
        "\n",
        "  #Вспомогательна функция для нахождения множества крайних левых токенов, выводимых из данной последовательности\n",
        "\n",
        "  def firsts_for_sequence(sequence):\n",
        "    tokens = set()\n",
        "    for symbol in sequence:\n",
        "      if symbol in terminals: \n",
        "        tokens.add(symbol)\n",
        "        return tokens\n",
        "      else:\n",
        "        tokens.update(firsts[symbol])\n",
        "        if empt not in firsts[symbol]:\n",
        "          return tokens\n",
        "    return tokens\n",
        "\n",
        "\n",
        "  follows[nonterminal].add('$') # '$' - как конец строки\n",
        "  find_new_follow = True\n",
        "  while find_new_follow:\n",
        "    find_new_follow = False\n",
        "    for nterm, definition in nterminals.items():\n",
        "      for rule in definition:\n",
        "        while len(rule):\n",
        "          left = rule.pop(0) \n",
        "          if left not in terminals:\n",
        "            befor = len(follows[left]) \n",
        "            f_set = firsts_for_sequence(rule) \n",
        "            follows[left].update(f_set.difference(empt)) \n",
        "            if empt in f_set or len(rule) == 0: \n",
        "              follows[left].update(follows[nterm]) \n",
        "            after = len(follows[left])\n",
        "            if not (befor == after):\n",
        "              find_new_follow = True\n",
        "  return follows"
      ],
      "metadata": {
        "id": "4zqfme93SNTM"
      },
      "execution_count": 8,
      "outputs": []
    },
    {
      "cell_type": "code",
      "source": [
        "grammar = {\n",
        "    'toks': set( [\n",
        "        (0, 'e'), \n",
        "        (1, 'v'), \n",
        "        (2, 'n'), \n",
        "        (3, '+'),\n",
        "        (4, '*'),\n",
        "        (5, '('),\n",
        "        (6, ')')\n",
        "    ] ),\n",
        "\n",
        "    'vars': {\n",
        "        'S' : [['T', 'C']],\n",
        "\n",
        "        'C' : [[(3, '+'), 'T', 'C'],\n",
        "               [(0, 'e')]],\n",
        "             \n",
        "        'T' : [['F', 'D'],\n",
        "               [(0, 'e')]],\n",
        "             \n",
        "        'D' : [[(4, '*'), 'F', 'D'],\n",
        "               [(0, 'e')]],\n",
        "             \n",
        "        'F' : [[(1, 'v')],\n",
        "               [(2, 'n')],\n",
        "               [(5, '('), 'S', (6, ')')]],\n",
        "    },\n",
        "    'hvar': 'S'\n",
        "}\n",
        "\n",
        "print(\"Result FIRST: \", firsts_set(grammar, (0, 'e')))\n",
        "print(\"Result FOLLOW: \", follows_set(grammar, (0, 'e')))"
      ],
      "metadata": {
        "colab": {
          "base_uri": "https://localhost:8080/"
        },
        "id": "bJZJVs1ySUGF",
        "outputId": "d2c9f4c6-d6ad-4e0d-ebec-cc3f03ab9968"
      },
      "execution_count": 9,
      "outputs": [
        {
          "output_type": "stream",
          "name": "stdout",
          "text": [
            "Result FIRST:  {'F': {(1, 'v'), (2, 'n'), (5, '(')}, 'T': {(1, 'v'), (2, 'n'), (5, '('), (0, 'e')}, 'C': {(0, 'e'), (3, '+')}, 'S': {(1, 'v'), (2, 'n'), (5, '('), (0, 'e'), (3, '+')}, 'D': {(4, '*'), (0, 'e')}}\n",
            "Result FOLLOW:  {'S': {'$', (6, ')')}, 'C': {'$'}, 'T': {'$', (0, 'e'), (3, '+')}, 'D': {'$', (0, 'e'), (3, '+')}, 'F': {'$', (0, 'e'), (4, '*'), (3, '+')}}\n"
          ]
        }
      ]
    }
  ]
}
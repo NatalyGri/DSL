{
  "nbformat": 4,
  "nbformat_minor": 0,
  "metadata": {
    "colab": {
      "name": "Untitled1.ipynb",
      "provenance": [],
      "authorship_tag": "ABX9TyOQ7fVJDDOUvFvJ51VFZvb3",
      "include_colab_link": true
    },
    "kernelspec": {
      "name": "python3",
      "display_name": "Python 3"
    },
    "language_info": {
      "name": "python"
    }
  },
  "cells": [
    {
      "cell_type": "markdown",
      "metadata": {
        "id": "view-in-github",
        "colab_type": "text"
      },
      "source": [
        "<a href=\"https://colab.research.google.com/github/NatalyGri/DSL/blob/main/Job-1.ipynb\" target=\"_parent\"><img src=\"https://colab.research.google.com/assets/colab-badge.svg\" alt=\"Open In Colab\"/></a>"
      ]
    },
    {
      "cell_type": "markdown",
      "metadata": {
        "id": "gIMweFF-4SOz"
      },
      "source": [
        "**whitespaces** – список символов, которые учитываются как разделители;  \n",
        "**text** - текст, который нужно оброботать или название файла, вкотором храниться наш текст."
      ]
    },
    {
      "cell_type": "code",
      "metadata": {
        "id": "zxdlqS6phIqx"
      },
      "source": [
        "whitespaces = [' ', ',', '.', ':', ';', '(', ')', '\\n']\n",
        "#text = 'text.txt'\n",
        "text = '((Lewis ,Carroll)Through,,the;Looking .Glass'\n",
        "word = ''\n",
        "finalText = []"
      ],
      "execution_count": 4,
      "outputs": []
    },
    {
      "cell_type": "markdown",
      "metadata": {
        "id": "rpJJWWAb2CM3"
      },
      "source": [
        "Проверим содержит ли text название файла, в котором находиться текст, который нужно обработать. Если такой файл существует, загружаем его содержимое в переменную text. Если данного файла не существует, значит в переменной находиться необходимый нам текст."
      ]
    },
    {
      "cell_type": "code",
      "metadata": {
        "colab": {
          "base_uri": "https://localhost:8080/"
        },
        "id": "Uj7S5N4q3d1U",
        "outputId": "fbe78d79-5881-4f10-ee4d-9317df68e7d4"
      },
      "source": [
        "try:\n",
        "    fileText = open(text, \"r\")\n",
        "    text = fileText.read()\n",
        "    print(\"Text in file\")\n",
        "except IOError:\n",
        "    print(\"Text in Variable \")"
      ],
      "execution_count": 5,
      "outputs": [
        {
          "output_type": "stream",
          "name": "stdout",
          "text": [
            "Text in Variable \n"
          ]
        }
      ]
    },
    {
      "cell_type": "markdown",
      "metadata": {
        "id": "47rfF0D82Ajz"
      },
      "source": [
        "В цикле перебираем символы текста. Если этот символ является разделителем, функция проверяет word на заполненность и добавляет содержимое word в итоговый список. Если же нет, то символ добавляется в word. "
      ]
    },
    {
      "cell_type": "code",
      "metadata": {
        "id": "2DL_hdVd7nmy"
      },
      "source": [
        "for symbol in text:\n",
        "    if symbol in whitespaces:\n",
        "        if word:\n",
        "            finalText.append(word)\n",
        "            word = ''\n",
        "    else:\n",
        "        word = word + symbol"
      ],
      "execution_count": 6,
      "outputs": []
    },
    {
      "cell_type": "markdown",
      "metadata": {
        "id": "e2YuGVcP88ZS"
      },
      "source": [
        "Проверяем, осталось ли что-то в word (в случае, если последний символ был не разделителем)."
      ]
    },
    {
      "cell_type": "code",
      "metadata": {
        "id": "LFmQhZKw89A2"
      },
      "source": [
        "if word:\n",
        "        finalText.append(word)"
      ],
      "execution_count": 7,
      "outputs": []
    },
    {
      "cell_type": "code",
      "metadata": {
        "colab": {
          "base_uri": "https://localhost:8080/"
        },
        "id": "cEinQWHb9pRA",
        "outputId": "92d88137-beff-4ce0-9fb6-35aeacd60e17"
      },
      "source": [
        "print(finalText)"
      ],
      "execution_count": 8,
      "outputs": [
        {
          "output_type": "stream",
          "name": "stdout",
          "text": [
            "['Lewis', 'Carroll', 'Through', 'the', 'Looking', 'Glass']\n"
          ]
        }
      ]
    }
  ]
}
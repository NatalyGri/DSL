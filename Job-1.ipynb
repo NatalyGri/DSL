{
  "nbformat": 4,
  "nbformat_minor": 0,
  "metadata": {
    "colab": {
      "name": "Untitled1.ipynb",
      "provenance": [],
      "authorship_tag": "ABX9TyPFjy2DnlnX/jHA5BqtY1D+",
      "include_colab_link": true
    },
    "kernelspec": {
      "name": "python3",
      "display_name": "Python 3"
    },
    "language_info": {
      "name": "python"
    }
  },
  "cells": [
    {
      "cell_type": "markdown",
      "metadata": {
        "id": "view-in-github",
        "colab_type": "text"
      },
      "source": [
        "<a href=\"https://colab.research.google.com/github/NatalyGri/DSL/blob/main/Job-1.ipynb\" target=\"_parent\"><img src=\"https://colab.research.google.com/assets/colab-badge.svg\" alt=\"Open In Colab\"/></a>"
      ]
    },
    {
      "cell_type": "code",
      "metadata": {
        "colab": {
          "base_uri": "https://localhost:8080/"
        },
        "id": "zxdlqS6phIqx",
        "outputId": "4c386082-d851-4535-a3f5-21f9699686ac"
      },
      "source": [
        "whitespaces = [' ', ',', '.', ':', ';', '(', ')', '\\n']\n",
        "#text = 'text.txt'\n",
        "text = '((Lewis ,Carroll)Through,,the;Looking .Glass'\n",
        "word = ''\n",
        "finalText = []\n",
        "\n",
        "try:\n",
        "    fileText = open(text, \"r\")\n",
        "    text = fileText.read()\n",
        "    print(\"Text in file\")\n",
        "except IOError:\n",
        "    print(\"Text in Variable \")\n",
        "\n",
        "for symbol in text:\n",
        "    if symbol in whitespaces:\n",
        "        if word:\n",
        "            finalText.append(word)\n",
        "            word = ''\n",
        "    else:\n",
        "        word = word + symbol\n",
        "\n",
        "if word:\n",
        "        finalText.append(word)\n",
        "\n",
        "print(finalText)"
      ],
      "execution_count": 3,
      "outputs": [
        {
          "output_type": "stream",
          "name": "stdout",
          "text": [
            "Code location: variable\n",
            "['Lewis', 'Carroll', 'Through', 'the', 'Looking', 'Glass']\n"
          ]
        }
      ]
    }
  ]
}
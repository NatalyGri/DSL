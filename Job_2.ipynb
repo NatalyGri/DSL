{
  "nbformat": 4,
  "nbformat_minor": 0,
  "metadata": {
    "colab": {
      "name": "Job-2.ipynb",
      "provenance": [],
      "authorship_tag": "ABX9TyNw/66hSTN5vVjwpL4osJLN",
      "include_colab_link": true
    },
    "kernelspec": {
      "name": "python3",
      "display_name": "Python 3"
    },
    "language_info": {
      "name": "python"
    }
  },
  "cells": [
    {
      "cell_type": "markdown",
      "metadata": {
        "id": "view-in-github",
        "colab_type": "text"
      },
      "source": [
        "<a href=\"https://colab.research.google.com/github/NatalyGri/DSL/blob/main/Job_2.ipynb\" target=\"_parent\"><img src=\"https://colab.research.google.com/assets/colab-badge.svg\" alt=\"Open In Colab\"/></a>"
      ]
    },
    {
      "cell_type": "markdown",
      "source": [
        "Контекстно-свободная грамматика представляется словарем:\n",
        "```\n",
        "{'toks': set(token), 'vars': dict(var: definition), 'hvar': var}\n",
        "token : (class, value)\n",
        "class : int\n",
        "value : str\n",
        "var : str                 # имя нетерминала\n",
        "definition : list(rule)\n",
        "rule : list(var | token)  # правая часть правила\n",
        "```\n",
        "# 1) Удаление сторонних нетерминалов.\n",
        "\n",
        "**Сторонние нетерминальные символы** - непродуктивные и недостежимые символы.\n",
        "\n",
        "**Нетерминал А** называется **достижимым** если он выводим из главного нетерминального символа.\n",
        "\n",
        "**Нетерминал А** называется **продуктивным** если из него можно вывести цепочку терминальных символов.\n",
        "\n",
        "Чтобы очистить грамматику, мы находим все продуктивные и достижимые нетерминалы, а затем убираем все ненужное.\n",
        "\n",
        "1) Находим продуктивные нетерминалы, просматривая каждый нетерминал и его продуционные правила, отмечая те нетерминалы, правая часть правила которых содержит только токены или другие продуктивные нетерминалы.\n",
        "\n",
        "2) Находим достижимые нетерминалы. Первый достижимый нетерминал - это главный нетерминал, затем мы добавляем все нетерминалы, содержащиеся в его \n",
        "продуционных правилах, в множество достижимых нетерминалов и повторяем эту операцию с обновленным множеством достижимых нетерминалов, пока оно увеличиваеться.\n",
        "\n",
        "3) Сравниваем исходное множество нетерминалов с объединенным продуктивных и достижимых нетерминалов и включаем только продуктивные нетерминалы с правилами, содержащими только достижимые нетерминалы. "
      ],
      "metadata": {
        "id": "eSKCGgtoiCFR"
      }
    },
    {
      "cell_type": "code",
      "execution_count": 5,
      "metadata": {
        "id": "JvEVxzExec-V"
      },
      "outputs": [],
      "source": [
        "def clean_external(grammar):\n",
        "\n",
        "  terminal = grammar['toks']\n",
        "  nterminal = grammar['vars']\n",
        "  non_extrnal = set()\n",
        "  \n",
        "  #вспомогательная функция для определения продуктивности нетерминала\n",
        "  def is_non_external(definition):\n",
        "    return any(map(check_rule, definition))\n",
        "\n",
        "  #вспомогательная функция для анализа правой части правила на непродуктивные нетерминалы\n",
        "  def check_rule(rule):\n",
        "    return all(map((lambda part: part in terminal.union(non_extrnal)), rule))\n",
        "\n",
        "  #вспомогательная функция для \"очищения\" правил от непродуктивныъ нетерминалов\n",
        "  def clean_definition(definition):\n",
        "    new_definition = []\n",
        "    for rule in definition:\n",
        "        if check_rule(rule):\n",
        "          new_definition.append(rule)\n",
        "    return new_definition\n",
        "\n",
        "\n",
        "  #ищем продуктивные нетерминалы\n",
        "  new_non_extrnal= True \n",
        "  while new_non_extrnal:\n",
        "    new_non_extrnal = False\n",
        "    for nterm, definition in nterminal.items():\n",
        "      if nterm not in non_extrnal and is_non_external(definition):\n",
        "        non_extrnal.add(nterm)\n",
        "        new_non_extrnal = True\n",
        "\n",
        "\n",
        "  #ищем достижимые нетерминалы\n",
        "  finded = set(grammar['hvar'])\n",
        "  find_new_finded = True\n",
        "  while find_new_finded:\n",
        "    find_new_finded = False\n",
        "    for nterm, definition in nterminal.items():\n",
        "      if nterm in finded:\n",
        "        for rule in definition:\n",
        "          new_finded = finded.union(set(filter(lambda part: part in nterminal, rule)))\n",
        "          find_new_finded = not (len(finded) == len(finded))\n",
        "          finded = new_finded\n",
        "\n",
        "  #получаем множество сторонних нетерминалов\n",
        "  non_extrnal = non_extrnal.union(finded)\n",
        "  \n",
        "  #удаляем из грамматики все посторонних нетерминалы и правила в которых они содержатся)\n",
        "  new_nterminal = dict()\n",
        "  for nterm, definition in nterminal.items():\n",
        "    if nterm in non_extrnal:\n",
        "      new_definition = clean_definition(definition)\n",
        "      if nterm not in new_nterminal.keys() and new_definition:\n",
        "        new_nterminal[nterm] = []\n",
        "        new_nterminal[nterm] = new_definition\n",
        "      \n",
        "  grammar['vars'] = new_nterminal\n",
        "\n",
        "  return grammar"
      ]
    },
    {
      "cell_type": "markdown",
      "source": [
        "# 2) Определение исчезающих символов\n",
        "Чтобы найти все исчезающие нетерминалы, мы рассматриваем каждый нетерминал и его продуционные правила. Если мы находим правило вида α->ε или α->β, когда β->>ε, мы добавляем этот нетерминал в множество исчезающих и повторяем все действия, пока множество исчезающих нетерминалов увеличиваеться."
      ],
      "metadata": {
        "id": "8Y2VxGMQGWwu"
      }
    },
    {
      "cell_type": "code",
      "source": [
        "def vanishing(grammar, empt):\n",
        "  teminals = grammar['toks']\n",
        "  nteminals = grammar['vars']\n",
        "  vanishing_set = set() \n",
        "  \n",
        "  #вспомогательная функция для определения исчезаемости нетерминала\n",
        "  def is_vanishing(definition):\n",
        "    for rule in definition: \n",
        "       if all(map((lambda symbol: symbol == empt or symbol in vanishing_set), rule)): return True\n",
        "    return False\n",
        "\n",
        "  #ищем исчезающие нетерминалы\n",
        "  new_vanishing_flag = True \n",
        "  while new_vanishing_flag:\n",
        "    new_vanishing_flag = False\n",
        "    for nterm, definition in nteminals.items():\n",
        "      if nterm not in vanishing_set and is_vanishing(definition) :\n",
        "        vanishing_set.add(nterm)\n",
        "        new_vanishing_flag = True\n",
        "          \n",
        "  return vanishing_set.difference(grammar['hvar']) #исключаем главный нетерминал"
      ],
      "metadata": {
        "id": "L0thf_JkHUDh"
      },
      "execution_count": 7,
      "outputs": []
    },
    {
      "cell_type": "code",
      "source": [
        "grammar = {\n",
        "    'toks': set( [\n",
        "        (0, 'e'), \n",
        "        (1, 'a'), \n",
        "        (2, 'b'), \n",
        "        (3, 'c'),\n",
        "        (4, 'd'),\n",
        "        (5, 'f'),\n",
        "    ] ),\n",
        "\n",
        "    'vars': {\n",
        "        'A' : [['A', (1, 'a')], \n",
        "               ['B', 'F'],\n",
        "               ['C', (3, 'c'), 'D']],\n",
        "        'B' : [['D', (1, 'c')]],\n",
        "        'C' : [['B'],\n",
        "               [(0, 'e')]],\n",
        "        'D' : [['B', (4, 'd')],\n",
        "               ['C', (2, 'b')]],\n",
        "        'F' : [[(0, 'e')],\n",
        "               [(2, 'b'), 'B'],\n",
        "               ['C']],\n",
        "        'S' : [['A']]\n",
        "    },\n",
        "    'hvar': 'S'\n",
        "}\n",
        "\n",
        "print(\"Grammar without unusefull(external) non-terminals: \\n\", clean_external(grammar))\n",
        "print(\"Vanishing: \", vanishing(grammar, (0, 'e')))"
      ],
      "metadata": {
        "colab": {
          "base_uri": "https://localhost:8080/"
        },
        "id": "_FS15fJNHYQd",
        "outputId": "e00e2db8-ffbd-4313-8637-a7c903684a6e"
      },
      "execution_count": 8,
      "outputs": [
        {
          "output_type": "stream",
          "name": "stdout",
          "text": [
            "Grammar without unusefull(external) non-terminals: \n",
            " {'toks': {(4, 'd'), (3, 'c'), (1, 'a'), (5, 'f'), (2, 'b'), (0, 'e')}, 'vars': {'A': [['A', (1, 'a')], ['C', (3, 'c'), 'D']], 'C': [[(0, 'e')]], 'D': [['C', (2, 'b')]], 'F': [[(0, 'e')], ['C']], 'S': [['A']]}, 'hvar': 'S'}\n",
            "Vanishing:  {'F', 'C'}\n"
          ]
        }
      ]
    }
  ]
}